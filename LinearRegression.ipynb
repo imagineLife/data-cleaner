{
 "cells": [
  {
   "cell_type": "markdown",
   "metadata": {},
   "source": [
    "# Linear Regression"
   ]
  },
  {
   "cell_type": "code",
   "execution_count": null,
   "metadata": {},
   "outputs": [],
   "source": [
    "Contents\n"
   ]
  },
  {
   "cell_type": "markdown",
   "metadata": {},
   "source": [
    "# Overview\n",
    "- Fitting a straight line to a set of observations  \n",
    "- \"Regression\" seems...misleading, nothing is 'backwards'  "
   ]
  },
  {
   "cell_type": "markdown",
   "metadata": {},
   "source": [
    "# Hows it Work and OLS\n",
    "- ordinary \"least squares\", which minimizes the \"squared error\" between the LINE && each point\n",
    "- defining the MAXIMUM LIKELYHOOD  of the y value being something for the x value\n",
    "\n",
    "## Slope\n",
    "y = mx + b  \n",
    "- SLOPE IS...\n",
    "- (\n",
    "  - correlation between the x & y variable\n",
    "  - TIMES\n",
    "  - the stDev of Y \n",
    "- )\n",
    "- DIVIDED BY\n",
    "- stdDev of X\n",
    "\n",
    "## Y Intercept\n",
    "- mean of y MINUS the SLOPE\n",
    "- times the mean of X  "
   ]
  },
  {
   "cell_type": "markdown",
   "metadata": {},
   "source": [
    "# Measuring how Good a Regression is\n",
    "## Using R Squared\n",
    "- the coefficient of determination\n",
    "\n",
    "The fraction of the total variation\n",
    "\n",
    "## Computing R Squared\n",
    "- numerator\n",
    "  - sum of squared-errors\n",
    "\n",
    "- denominator\n",
    "  - sum of squared variation from mean  \n",
    "  \n",
    "## Interpreting R Squared\n",
    "Range is from 0 to 1  \n",
    "0 is bad, no variance is captured, fit is terrible    \n",
    "1 is good, all variance is captured, fit is great"
   ]
  },
  {
   "cell_type": "code",
   "execution_count": null,
   "metadata": {},
   "outputs": [],
   "source": []
  }
 ],
 "metadata": {
  "kernelspec": {
   "display_name": "Python 3",
   "language": "python",
   "name": "python3"
  },
  "language_info": {
   "codemirror_mode": {
    "name": "ipython",
    "version": 3
   },
   "file_extension": ".py",
   "mimetype": "text/x-python",
   "name": "python",
   "nbconvert_exporter": "python",
   "pygments_lexer": "ipython3",
   "version": "3.7.6"
  }
 },
 "nbformat": 4,
 "nbformat_minor": 2
}
