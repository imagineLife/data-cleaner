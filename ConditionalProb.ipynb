{
 "cells": [
  {
   "cell_type": "markdown",
   "metadata": {},
   "source": [
    "# Conditional Probability"
   ]
  },
  {
   "cell_type": "markdown",
   "metadata": {},
   "source": [
    "# Contents\n",
    "- [Percentiles](#Percentiles)\n",
    "- [The Data](#The-DataFrame)\n",
    "- [Headers](#Headers)\n",
    "- [Charting the Data, Percent Below Poverty](#Charting-the-Data)\n",
    "  - [By Age](#Percent-Below-Poverty)\n",
    "\t  - [< 18](#Percent-Below-<-18yrs-old)\n",
    "\t  - [18-36](#Percent-Below-18-36)\n",
    "\t  - [Percent Below 35 - 64](#Percent-Below-35---64)\n",
    "\t  - [Percent Below 60 +](#Percent-Below-60-+)\n",
    "  - [By Education](#Education)\n",
    "      - [Below High School](#Below-High---School)\n",
    "      - [High School](#High---School-Grads)\n",
    "      - [Some College And Associates degree](#Some-College-And-Associates-degree)\n",
    "      - [Bachelor's +](#Bachelor's-degree-+)"
   ]
  },
  {
   "cell_type": "markdown",
   "metadata": {},
   "source": [
    "**What is it?**  \n",
    "I can make a statement about the **probability** of a 2nd even **given that a first event occured**\n",
    "\n",
    "**Notation**\n",
    "- P      = Probibility-of  \n",
    "- P(B|A) = Prob of B GIVEN that A has occured, implying a dependency \n",
    "- P(A,B) = Probability of A & B occuring both independently of each other \n",
    "\n",
    "**Equation**\n",
    "P(B|A) = _numerator_ ( P( A,B ) ) / _denominator_ P(A)  \n",
    "P(B|A) = P( A,B ) / P(A)\n",
    "\n",
    "**in \"English\"\"**\n",
    "The probability of B given a is equal to...\n",
    " - The probability of A & B together\n",
    " - divided by the probability of A|\n",
    " \n",
    " \n",
    " ## An Example\n",
    " **Scenario**\n",
    " - A teacher gives students 2 tests\n",
    " - 60% of students pass BOTH tests\n",
    " - 80% of students pass FIRST test\n",
    " \n",
    " **Question**\n",
    "What percentage of students...  \n",
    " - who passed the first test\n",
    " - also passed the second test\n",
    " \n",
    "**The Solution In Notation**  \n",
    "A = % passed the 1st test  \n",
    "B = % passed the 2nd test  \n",
    "Re-asking the question with notation in mind,  \n",
    "what is the probability of B (_folks who passed the 2nd test_)  \n",
    "given A (_folks who passed the first test_)\n",
    "\n",
    "## Here\n",
    "A = % below poverty in specifc education range  \n",
    "B = % below poverty in specific age range  \n",
    "Re-asking the question with notation in mind,  \n",
    "what is the probability of B (_folks in poverty in a specific age_)  \n",
    "given A (_folks within a specific range_)\n"
   ]
  },
  {
   "cell_type": "markdown",
   "metadata": {},
   "source": [
    "# The DataFrame\n",
    "arrays with additional pandas methods attached"
   ]
  },
  {
   "cell_type": "code",
   "execution_count": 2,
   "metadata": {
    "scrolled": false
   },
   "outputs": [
    {
     "data": {
      "text/html": [
       "<div>\n",
       "<style scoped>\n",
       "    .dataframe tbody tr th:only-of-type {\n",
       "        vertical-align: middle;\n",
       "    }\n",
       "\n",
       "    .dataframe tbody tr th {\n",
       "        vertical-align: top;\n",
       "    }\n",
       "\n",
       "    .dataframe thead th {\n",
       "        text-align: right;\n",
       "    }\n",
       "</style>\n",
       "<table border=\"1\" class=\"dataframe\">\n",
       "  <thead>\n",
       "    <tr style=\"text-align: right;\">\n",
       "      <th></th>\n",
       "      <th>id</th>\n",
       "      <th>Geographic Area Name</th>\n",
       "      <th>Total:</th>\n",
       "      <th>Below poverty level:</th>\n",
       "      <th>Percent below poverty level:</th>\n",
       "      <th>Total:AGE:Under 18 years</th>\n",
       "      <th>Below poverty level:AGE:Under 18 years</th>\n",
       "      <th>Percent below poverty level:AGE:Under 18 years</th>\n",
       "      <th>Total:AGE:Under 18 years!!Under 5 years</th>\n",
       "      <th>Below poverty level:AGE:Under 18 years!!Under 5 years</th>\n",
       "      <th>...</th>\n",
       "      <th>Percent below poverty level:ALL INDIVIDUALS WITH INCOME BELOW THE FOLLOWING POVERTY RATIOS:200 percent of poverty level</th>\n",
       "      <th>Total:ALL INDIVIDUALS WITH INCOME BELOW THE FOLLOWING POVERTY RATIOS:300 percent of poverty level</th>\n",
       "      <th>Below poverty level:ALL INDIVIDUALS WITH INCOME BELOW THE FOLLOWING POVERTY RATIOS:300 percent of poverty level</th>\n",
       "      <th>Percent below poverty level:ALL INDIVIDUALS WITH INCOME BELOW THE FOLLOWING POVERTY RATIOS:300 percent of poverty level</th>\n",
       "      <th>Total:ALL INDIVIDUALS WITH INCOME BELOW THE FOLLOWING POVERTY RATIOS:400 percent of poverty level</th>\n",
       "      <th>Below poverty level:ALL INDIVIDUALS WITH INCOME BELOW THE FOLLOWING POVERTY RATIOS:400 percent of poverty level</th>\n",
       "      <th>Percent below poverty level:ALL INDIVIDUALS WITH INCOME BELOW THE FOLLOWING POVERTY RATIOS:400 percent of poverty level</th>\n",
       "      <th>Total:ALL INDIVIDUALS WITH INCOME BELOW THE FOLLOWING POVERTY RATIOS:500 percent of poverty level</th>\n",
       "      <th>Below poverty level:ALL INDIVIDUALS WITH INCOME BELOW THE FOLLOWING POVERTY RATIOS:500 percent of poverty level</th>\n",
       "      <th>Percent below poverty level:ALL INDIVIDUALS WITH INCOME BELOW THE FOLLOWING POVERTY RATIOS:500 percent of poverty level</th>\n",
       "    </tr>\n",
       "  </thead>\n",
       "  <tbody>\n",
       "    <tr>\n",
       "      <th>0</th>\n",
       "      <td>0400000US02</td>\n",
       "      <td>Alaska</td>\n",
       "      <td>720869</td>\n",
       "      <td>78620</td>\n",
       "      <td>10.9</td>\n",
       "      <td>180258</td>\n",
       "      <td>25327</td>\n",
       "      <td>14.1</td>\n",
       "      <td>51329</td>\n",
       "      <td>8384</td>\n",
       "      <td>...</td>\n",
       "      <td>(X)</td>\n",
       "      <td>296900</td>\n",
       "      <td>(X)</td>\n",
       "      <td>(X)</td>\n",
       "      <td>393946</td>\n",
       "      <td>(X)</td>\n",
       "      <td>(X)</td>\n",
       "      <td>480098</td>\n",
       "      <td>(X)</td>\n",
       "      <td>(X)</td>\n",
       "    </tr>\n",
       "    <tr>\n",
       "      <th>1</th>\n",
       "      <td>0400000US23</td>\n",
       "      <td>Maine</td>\n",
       "      <td>1301941</td>\n",
       "      <td>151541</td>\n",
       "      <td>11.6</td>\n",
       "      <td>240662</td>\n",
       "      <td>34878</td>\n",
       "      <td>14.5</td>\n",
       "      <td>61960</td>\n",
       "      <td>9594</td>\n",
       "      <td>...</td>\n",
       "      <td>(X)</td>\n",
       "      <td>604470</td>\n",
       "      <td>(X)</td>\n",
       "      <td>(X)</td>\n",
       "      <td>798827</td>\n",
       "      <td>(X)</td>\n",
       "      <td>(X)</td>\n",
       "      <td>954763</td>\n",
       "      <td>(X)</td>\n",
       "      <td>(X)</td>\n",
       "    </tr>\n",
       "    <tr>\n",
       "      <th>2</th>\n",
       "      <td>0400000US37</td>\n",
       "      <td>North Carolina</td>\n",
       "      <td>10100431</td>\n",
       "      <td>1417873</td>\n",
       "      <td>14.0</td>\n",
       "      <td>2257634</td>\n",
       "      <td>455971</td>\n",
       "      <td>20.2</td>\n",
       "      <td>586457</td>\n",
       "      <td>127425</td>\n",
       "      <td>...</td>\n",
       "      <td>(X)</td>\n",
       "      <td>5151267</td>\n",
       "      <td>(X)</td>\n",
       "      <td>(X)</td>\n",
       "      <td>6549114</td>\n",
       "      <td>(X)</td>\n",
       "      <td>(X)</td>\n",
       "      <td>7602253</td>\n",
       "      <td>(X)</td>\n",
       "      <td>(X)</td>\n",
       "    </tr>\n",
       "    <tr>\n",
       "      <th>3</th>\n",
       "      <td>0400000US29</td>\n",
       "      <td>Missouri</td>\n",
       "      <td>5943658</td>\n",
       "      <td>786330</td>\n",
       "      <td>13.2</td>\n",
       "      <td>1347491</td>\n",
       "      <td>247209</td>\n",
       "      <td>18.3</td>\n",
       "      <td>362024</td>\n",
       "      <td>72100</td>\n",
       "      <td>...</td>\n",
       "      <td>(X)</td>\n",
       "      <td>2916185</td>\n",
       "      <td>(X)</td>\n",
       "      <td>(X)</td>\n",
       "      <td>3823677</td>\n",
       "      <td>(X)</td>\n",
       "      <td>(X)</td>\n",
       "      <td>4469204</td>\n",
       "      <td>(X)</td>\n",
       "      <td>(X)</td>\n",
       "    </tr>\n",
       "    <tr>\n",
       "      <th>4</th>\n",
       "      <td>0400000US42</td>\n",
       "      <td>Pennsylvania</td>\n",
       "      <td>12394000</td>\n",
       "      <td>1517870</td>\n",
       "      <td>12.2</td>\n",
       "      <td>2594554</td>\n",
       "      <td>434736</td>\n",
       "      <td>16.8</td>\n",
       "      <td>687014</td>\n",
       "      <td>121224</td>\n",
       "      <td>...</td>\n",
       "      <td>(X)</td>\n",
       "      <td>5450455</td>\n",
       "      <td>(X)</td>\n",
       "      <td>(X)</td>\n",
       "      <td>7240999</td>\n",
       "      <td>(X)</td>\n",
       "      <td>(X)</td>\n",
       "      <td>8637022</td>\n",
       "      <td>(X)</td>\n",
       "      <td>(X)</td>\n",
       "    </tr>\n",
       "  </tbody>\n",
       "</table>\n",
       "<p>5 rows × 137 columns</p>\n",
       "</div>"
      ],
      "text/plain": [
       "            id Geographic Area Name    Total:  Below poverty level:  \\\n",
       "0  0400000US02               Alaska    720869                 78620   \n",
       "1  0400000US23                Maine   1301941                151541   \n",
       "2  0400000US37       North Carolina  10100431               1417873   \n",
       "3  0400000US29             Missouri   5943658                786330   \n",
       "4  0400000US42         Pennsylvania  12394000               1517870   \n",
       "\n",
       "   Percent below poverty level:  Total:AGE:Under 18 years  \\\n",
       "0                          10.9                    180258   \n",
       "1                          11.6                    240662   \n",
       "2                          14.0                   2257634   \n",
       "3                          13.2                   1347491   \n",
       "4                          12.2                   2594554   \n",
       "\n",
       "   Below poverty level:AGE:Under 18 years  \\\n",
       "0                                   25327   \n",
       "1                                   34878   \n",
       "2                                  455971   \n",
       "3                                  247209   \n",
       "4                                  434736   \n",
       "\n",
       "   Percent below poverty level:AGE:Under 18 years  \\\n",
       "0                                            14.1   \n",
       "1                                            14.5   \n",
       "2                                            20.2   \n",
       "3                                            18.3   \n",
       "4                                            16.8   \n",
       "\n",
       "   Total:AGE:Under 18 years!!Under 5 years  \\\n",
       "0                                    51329   \n",
       "1                                    61960   \n",
       "2                                   586457   \n",
       "3                                   362024   \n",
       "4                                   687014   \n",
       "\n",
       "   Below poverty level:AGE:Under 18 years!!Under 5 years  ...  \\\n",
       "0                                               8384      ...   \n",
       "1                                               9594      ...   \n",
       "2                                             127425      ...   \n",
       "3                                              72100      ...   \n",
       "4                                             121224      ...   \n",
       "\n",
       "   Percent below poverty level:ALL INDIVIDUALS WITH INCOME BELOW THE FOLLOWING POVERTY RATIOS:200 percent of poverty level  \\\n",
       "0                                                (X)                                                                         \n",
       "1                                                (X)                                                                         \n",
       "2                                                (X)                                                                         \n",
       "3                                                (X)                                                                         \n",
       "4                                                (X)                                                                         \n",
       "\n",
       "   Total:ALL INDIVIDUALS WITH INCOME BELOW THE FOLLOWING POVERTY RATIOS:300 percent of poverty level  \\\n",
       "0                                             296900                                                   \n",
       "1                                             604470                                                   \n",
       "2                                            5151267                                                   \n",
       "3                                            2916185                                                   \n",
       "4                                            5450455                                                   \n",
       "\n",
       "   Below poverty level:ALL INDIVIDUALS WITH INCOME BELOW THE FOLLOWING POVERTY RATIOS:300 percent of poverty level  \\\n",
       "0                                                (X)                                                                 \n",
       "1                                                (X)                                                                 \n",
       "2                                                (X)                                                                 \n",
       "3                                                (X)                                                                 \n",
       "4                                                (X)                                                                 \n",
       "\n",
       "   Percent below poverty level:ALL INDIVIDUALS WITH INCOME BELOW THE FOLLOWING POVERTY RATIOS:300 percent of poverty level  \\\n",
       "0                                                (X)                                                                         \n",
       "1                                                (X)                                                                         \n",
       "2                                                (X)                                                                         \n",
       "3                                                (X)                                                                         \n",
       "4                                                (X)                                                                         \n",
       "\n",
       "   Total:ALL INDIVIDUALS WITH INCOME BELOW THE FOLLOWING POVERTY RATIOS:400 percent of poverty level  \\\n",
       "0                                             393946                                                   \n",
       "1                                             798827                                                   \n",
       "2                                            6549114                                                   \n",
       "3                                            3823677                                                   \n",
       "4                                            7240999                                                   \n",
       "\n",
       "   Below poverty level:ALL INDIVIDUALS WITH INCOME BELOW THE FOLLOWING POVERTY RATIOS:400 percent of poverty level  \\\n",
       "0                                                (X)                                                                 \n",
       "1                                                (X)                                                                 \n",
       "2                                                (X)                                                                 \n",
       "3                                                (X)                                                                 \n",
       "4                                                (X)                                                                 \n",
       "\n",
       "   Percent below poverty level:ALL INDIVIDUALS WITH INCOME BELOW THE FOLLOWING POVERTY RATIOS:400 percent of poverty level  \\\n",
       "0                                                (X)                                                                         \n",
       "1                                                (X)                                                                         \n",
       "2                                                (X)                                                                         \n",
       "3                                                (X)                                                                         \n",
       "4                                                (X)                                                                         \n",
       "\n",
       "   Total:ALL INDIVIDUALS WITH INCOME BELOW THE FOLLOWING POVERTY RATIOS:500 percent of poverty level  \\\n",
       "0                                             480098                                                   \n",
       "1                                             954763                                                   \n",
       "2                                            7602253                                                   \n",
       "3                                            4469204                                                   \n",
       "4                                            8637022                                                   \n",
       "\n",
       "   Below poverty level:ALL INDIVIDUALS WITH INCOME BELOW THE FOLLOWING POVERTY RATIOS:500 percent of poverty level  \\\n",
       "0                                                (X)                                                                 \n",
       "1                                                (X)                                                                 \n",
       "2                                                (X)                                                                 \n",
       "3                                                (X)                                                                 \n",
       "4                                                (X)                                                                 \n",
       "\n",
       "   Percent below poverty level:ALL INDIVIDUALS WITH INCOME BELOW THE FOLLOWING POVERTY RATIOS:500 percent of poverty level  \n",
       "0                                                (X)                                                                        \n",
       "1                                                (X)                                                                        \n",
       "2                                                (X)                                                                        \n",
       "3                                                (X)                                                                        \n",
       "4                                                (X)                                                                        \n",
       "\n",
       "[5 rows x 137 columns]"
      ]
     },
     "execution_count": 2,
     "metadata": {},
     "output_type": "execute_result"
    }
   ],
   "source": [
    "%matplotlib inline\n",
    "import numpy as np\n",
    "import pandas as pd\n",
    "from scipy import stats\n",
    "\n",
    "# save file-data to var, using pandas read_file method\n",
    "# assign to a DataFrame\n",
    "df = pd.read_csv(\"./cleaned.csv\")\n",
    "\n",
    "# output a short-exampe of the data\n",
    "df.head()\n",
    "# df"
   ]
  },
  {
   "cell_type": "markdown",
   "metadata": {},
   "source": [
    "# Gathering Totals"
   ]
  },
  {
   "cell_type": "code",
   "execution_count": 50,
   "metadata": {
    "scrolled": true
   },
   "outputs": [
    {
     "name": "stdout",
     "output_type": "stream",
     "text": [
      "322349744 -> total BELOW POVERTY\n",
      "43215981 -> total BELOW POVERTY\n",
      "13.406550432998019% below poverty\n"
     ]
    }
   ],
   "source": [
    "# get column-specific data sub-sets\n",
    "totals_columns = df.filter(like=\"Total\")\n",
    "\n",
    "#TOTALS\n",
    "\n",
    "# 322349744\n",
    "totals = totals_columns['Total:'].sum()\n",
    "\n",
    "# 43215981\n",
    "totals_below_poverty = df['Below poverty level:'].sum()\n",
    "perc_below_poverty = ( totals_below_poverty / totals ) * 100\n",
    "\n",
    "print(str(totals)+ ' -> total BELOW POVERTY')\n",
    "print(str(totals_below_poverty) + ' -> total BELOW POVERTY')\n",
    "print(str(perc_below_poverty) + '% below poverty')"
   ]
  },
  {
   "cell_type": "markdown",
   "metadata": {},
   "source": [
    "# Grouping Age Totals"
   ]
  },
  {
   "cell_type": "code",
   "execution_count": 53,
   "metadata": {},
   "outputs": [
    {
     "name": "stdout",
     "output_type": "stream",
     "text": [
      "---Age Totals---\n"
     ]
    },
    {
     "data": {
      "text/plain": [
       "{'under18': 72751768, '18-34': 72613209, '35-64': 125194122, '65+': 51790645}"
      ]
     },
     "execution_count": 53,
     "metadata": {},
     "output_type": "execute_result"
    }
   ],
   "source": [
    "# Ages\n",
    "age_cols = df.filter(like=\"AGE\")\n",
    "age_cols\n",
    "\n",
    "age_totals = {\n",
    "  \"under18\": age_cols['Total:AGE:Under 18 years'].sum(),\n",
    "  \"18-34\": age_cols[\"Total:AGE:18 to 64 years!!18 to 34 years\"].sum(),\n",
    "  \"35-64\": age_cols[\"Total:AGE:18 to 64 years!!35 to 64 years\"].sum(),\n",
    "  \"65+\": age_cols[\"Total:AGE:65 years and over\"].sum()\n",
    "}\n",
    "print('---Age Totals---')\n",
    "age_totals\n",
    "\n",
    "#{'under18': 72751768, '18-34': 72613209, '35-64': 125194122, '65+': 51790645}"
   ]
  },
  {
   "cell_type": "markdown",
   "metadata": {},
   "source": [
    "# Grouping Education Totals"
   ]
  },
  {
   "cell_type": "code",
   "execution_count": 54,
   "metadata": {},
   "outputs": [
    {
     "name": "stdout",
     "output_type": "stream",
     "text": [
      "--Education totals--\n"
     ]
    },
    {
     "data": {
      "text/plain": [
       "{'totals': 221861976,\n",
       " 'noHS': 25605115,\n",
       " 'HS': 59111224,\n",
       " 'someCollecte': 64108358,\n",
       " 'bachelors+': 73037279}"
      ]
     },
     "execution_count": 54,
     "metadata": {},
     "output_type": "execute_result"
    }
   ],
   "source": [
    "#Educations\n",
    "ed_cols = df.filter(like=\"EDUCATIONAL\")\n",
    "total_education_columns = totals_columns.filter(like=\"EDUCATIONAL\")\n",
    "ed_cols\n",
    "\n",
    "education_totals = {\n",
    "  \"totals\": df['Total:EDUCATIONAL ATTAINMENT:Population 25 years and over'].sum(),\n",
    "  \"noHS\": total_education_columns['Total:EDUCATIONAL ATTAINMENT:Population 25 years and over!!Less than high school graduate'].sum(),\n",
    "  \"HS\": total_education_columns['Total:EDUCATIONAL ATTAINMENT:Population 25 years and over!!High school graduate (includes equivalency)'].sum(),\n",
    "  \"someCollecte\": total_education_columns[\"Total:EDUCATIONAL ATTAINMENT:Population 25 years and over!!Some college, associate's degree\"].sum(),\n",
    "  \"bachelors+\": total_education_columns[\"Total:EDUCATIONAL ATTAINMENT:Population 25 years and over!!Bachelor's degree or higher\"].sum()\n",
    "}\n",
    "#   {'totals': 221861976, 'noHS': 25605115, 'HS': 59111224, 'someCollecte': 64108358, 'bachelors+': 73037279}\n",
    "\n",
    "print('--Education totals--')\n",
    "education_totals\n"
   ]
  },
  {
   "cell_type": "markdown",
   "metadata": {},
   "source": [
    "# Totals below Poverty"
   ]
  },
  {
   "cell_type": "code",
   "execution_count": 53,
   "metadata": {},
   "outputs": [
    {
     "ename": "ValueError",
     "evalue": "Item wrong length 137 instead of 52.",
     "output_type": "error",
     "traceback": [
      "\u001b[0;31m---------------------------------------------------------------------------\u001b[0m",
      "\u001b[0;31mValueError\u001b[0m                                Traceback (most recent call last)",
      "\u001b[0;32m<ipython-input-53-5a97635fecaa>\u001b[0m in \u001b[0;36m<module>\u001b[0;34m\u001b[0m\n\u001b[1;32m      1\u001b[0m \u001b[0;31m# JUST TOTALS columns\u001b[0m\u001b[0;34m\u001b[0m\u001b[0;34m\u001b[0m\u001b[0;34m\u001b[0m\u001b[0m\n\u001b[0;32m----> 2\u001b[0;31m \u001b[0mtotals_columns\u001b[0m \u001b[0;34m=\u001b[0m \u001b[0mdf\u001b[0m\u001b[0;34m[\u001b[0m\u001b[0mdf\u001b[0m\u001b[0;34m.\u001b[0m\u001b[0mcolumns\u001b[0m\u001b[0;34m.\u001b[0m\u001b[0mstr\u001b[0m\u001b[0;34m.\u001b[0m\u001b[0mcontains\u001b[0m\u001b[0;34m(\u001b[0m\u001b[0;34m\"Total\"\u001b[0m\u001b[0;34m)\u001b[0m\u001b[0;34m]\u001b[0m\u001b[0;34m\u001b[0m\u001b[0;34m\u001b[0m\u001b[0m\n\u001b[0m\u001b[1;32m      3\u001b[0m \u001b[0mtotals_columns\u001b[0m\u001b[0;34m\u001b[0m\u001b[0;34m\u001b[0m\u001b[0m\n",
      "\u001b[0;32m~/opt/anaconda3/lib/python3.7/site-packages/pandas/core/frame.py\u001b[0m in \u001b[0;36m__getitem__\u001b[0;34m(self, key)\u001b[0m\n\u001b[1;32m   2789\u001b[0m         \u001b[0;31m# Do we have a (boolean) 1d indexer?\u001b[0m\u001b[0;34m\u001b[0m\u001b[0;34m\u001b[0m\u001b[0;34m\u001b[0m\u001b[0m\n\u001b[1;32m   2790\u001b[0m         \u001b[0;32mif\u001b[0m \u001b[0mcom\u001b[0m\u001b[0;34m.\u001b[0m\u001b[0mis_bool_indexer\u001b[0m\u001b[0;34m(\u001b[0m\u001b[0mkey\u001b[0m\u001b[0;34m)\u001b[0m\u001b[0;34m:\u001b[0m\u001b[0;34m\u001b[0m\u001b[0;34m\u001b[0m\u001b[0m\n\u001b[0;32m-> 2791\u001b[0;31m             \u001b[0;32mreturn\u001b[0m \u001b[0mself\u001b[0m\u001b[0;34m.\u001b[0m\u001b[0m_getitem_bool_array\u001b[0m\u001b[0;34m(\u001b[0m\u001b[0mkey\u001b[0m\u001b[0;34m)\u001b[0m\u001b[0;34m\u001b[0m\u001b[0;34m\u001b[0m\u001b[0m\n\u001b[0m\u001b[1;32m   2792\u001b[0m \u001b[0;34m\u001b[0m\u001b[0m\n\u001b[1;32m   2793\u001b[0m         \u001b[0;31m# We are left with two options: a single key, and a collection of keys,\u001b[0m\u001b[0;34m\u001b[0m\u001b[0;34m\u001b[0m\u001b[0;34m\u001b[0m\u001b[0m\n",
      "\u001b[0;32m~/opt/anaconda3/lib/python3.7/site-packages/pandas/core/frame.py\u001b[0m in \u001b[0;36m_getitem_bool_array\u001b[0;34m(self, key)\u001b[0m\n\u001b[1;32m   2836\u001b[0m         \u001b[0;32melif\u001b[0m \u001b[0mlen\u001b[0m\u001b[0;34m(\u001b[0m\u001b[0mkey\u001b[0m\u001b[0;34m)\u001b[0m \u001b[0;34m!=\u001b[0m \u001b[0mlen\u001b[0m\u001b[0;34m(\u001b[0m\u001b[0mself\u001b[0m\u001b[0;34m.\u001b[0m\u001b[0mindex\u001b[0m\u001b[0;34m)\u001b[0m\u001b[0;34m:\u001b[0m\u001b[0;34m\u001b[0m\u001b[0;34m\u001b[0m\u001b[0m\n\u001b[1;32m   2837\u001b[0m             raise ValueError(\n\u001b[0;32m-> 2838\u001b[0;31m                 \u001b[0;34mf\"Item wrong length {len(key)} instead of {len(self.index)}.\"\u001b[0m\u001b[0;34m\u001b[0m\u001b[0;34m\u001b[0m\u001b[0m\n\u001b[0m\u001b[1;32m   2839\u001b[0m             )\n\u001b[1;32m   2840\u001b[0m \u001b[0;34m\u001b[0m\u001b[0m\n",
      "\u001b[0;31mValueError\u001b[0m: Item wrong length 137 instead of 52."
     ]
    }
   ],
   "source": [
    "# JUST TOTALS columns"
   ]
  },
  {
   "cell_type": "markdown",
   "metadata": {},
   "source": [
    "## Starting with Mean Below Poverty"
   ]
  },
  {
   "cell_type": "code",
   "execution_count": 20,
   "metadata": {},
   "outputs": [
    {
     "data": {
      "text/plain": [
       "13.492307692307698"
      ]
     },
     "execution_count": 20,
     "metadata": {},
     "output_type": "execute_result"
    }
   ],
   "source": [
    "# storing the column as a dataframe\n",
    "perc_below = df['Percent below poverty level:']\n",
    "\n",
    "# get the 'avg' / mean of the dataframe\n",
    "perc_below_avg = perc_below.mean()\n",
    "perc_below_avg\n",
    "\n",
    "# ... result is AVG 13.49% are below poverty"
   ]
  },
  {
   "cell_type": "markdown",
   "metadata": {},
   "source": [
    "# Collecting Age-Based Poverty Means"
   ]
  },
  {
   "cell_type": "code",
   "execution_count": 35,
   "metadata": {},
   "outputs": [
    {
     "data": {
      "text/plain": [
       "{'Under18': 18.050000000000008,\n",
       " '18-34': 16.576923076923077,\n",
       " '35-64': 10.803846153846154,\n",
       " '60+': 10.111538461538462}"
      ]
     },
     "execution_count": 35,
     "metadata": {},
     "output_type": "execute_result"
    }
   ],
   "source": [
    "# under 18, 18.05%\n",
    "perc_below_under_18 = df['Percent below poverty level:AGE:Under 18 years']\n",
    "perc_below_18_mean = perc_below_under_18.mean()\n",
    "\n",
    "# under 18, 16.5%\n",
    "perc_below_18_34 = df['Percent below poverty level:AGE:18 to 64 years!!18 to 34 years']\n",
    "perc_below_18_34_mean = perc_below_18_34.mean()\n",
    "\n",
    "#18-35, 10.80%\n",
    "perc_below_35_64 = df['Percent below poverty level:AGE:18 to 64 years!!35 to 64 years']\n",
    "perc_below_35_64_mean = perc_below_35_64.mean()\n",
    "\n",
    "# 60 +, 10.11&\n",
    "perc_60_plus = df['Percent below poverty level:AGE:60 years and over']\n",
    "perc_60_plus_mean = perc_60_plus.mean()\n",
    "\n",
    "# storing res in an obj\n",
    "age_poverty_means = {\n",
    "    \"Under18\": perc_below_18_mean, \n",
    "    \"18-34\": perc_below_18_34_mean, \n",
    "    \"35-64\":perc_below_35_64_mean,\n",
    "    \"60+\": perc_60_plus_mean\n",
    "}\n",
    "age_poverty_means"
   ]
  },
  {
   "cell_type": "markdown",
   "metadata": {},
   "source": [
    "# Collecting Education-Level Poverty Means"
   ]
  },
  {
   "cell_type": "code",
   "execution_count": 36,
   "metadata": {},
   "outputs": [
    {
     "data": {
      "text/plain": [
       "{'noHS': 25.46153846153846,\n",
       " 'HS': 14.098076923076924,\n",
       " 'someCollege': 9.953846153846152,\n",
       " 'bachelorsPlus': 4.507692307692308}"
      ]
     },
     "execution_count": 36,
     "metadata": {},
     "output_type": "execute_result"
    }
   ],
   "source": [
    "# No-HS, 25.46%\n",
    "perc_no_hs = df['Percent below poverty level:EDUCATIONAL ATTAINMENT:Population 25 years and over!!Less than high school graduate']\n",
    "perc_no_hs_mean = perc_no_hs.mean()\n",
    "\n",
    "#HS, 14.098%\n",
    "perc_hs = df['Percent below poverty level:EDUCATIONAL ATTAINMENT:Population 25 years and over!!High school graduate (includes equivalency)']\n",
    "perc_hs_mean = perc_hs.mean()\n",
    "\n",
    "# # Some College, 9.95%\n",
    "perc_some_college = df[\"Percent below poverty level:EDUCATIONAL ATTAINMENT:Population 25 years and over!!Some college, associate's degree\"]\n",
    "perc_some_college_mean = perc_some_college.mean()\n",
    "\n",
    "# #Bachelors + , 4.51%\n",
    "perc_bach = df[\"Percent below poverty level:EDUCATIONAL ATTAINMENT:Population 25 years and over!!Bachelor's degree or higher\"]\n",
    "perc_bach_mean = perc_bach.mean()\n",
    "\n",
    "# storing res in an obj\n",
    "education_poverty_means = {\n",
    "    \"noHS\": perc_no_hs_mean, \n",
    "    \"HS\": perc_hs_mean, \n",
    "    \"someCollege\":perc_some_college_mean,\n",
    "    \"bachelorsPlus\": perc_bach_mean\n",
    "}\n",
    "education_poverty_means"
   ]
  },
  {
   "cell_type": "markdown",
   "metadata": {},
   "source": [
    "# Calculating Conditional Probabilities"
   ]
  },
  {
   "cell_type": "code",
   "execution_count": 38,
   "metadata": {},
   "outputs": [],
   "source": [
    "#...not what i was going for here..."
   ]
  }
 ],
 "metadata": {
  "kernelspec": {
   "display_name": "Python 3",
   "language": "python",
   "name": "python3"
  },
  "language_info": {
   "codemirror_mode": {
    "name": "ipython",
    "version": 3
   },
   "file_extension": ".py",
   "mimetype": "text/x-python",
   "name": "python",
   "nbconvert_exporter": "python",
   "pygments_lexer": "ipython3",
   "version": "3.7.6"
  }
 },
 "nbformat": 4,
 "nbformat_minor": 2
}
