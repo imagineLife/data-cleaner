{
 "cells": [
  {
   "cell_type": "markdown",
   "metadata": {},
   "source": [
    "# Scatterplots"
   ]
  },
  {
   "cell_type": "markdown",
   "metadata": {},
   "source": [
    "# Contents\n",
    "- [Percentiles](#Percentiles)\n",
    "- [The Data](#The-DataFrame)\n",
    "- [Headers](#Headers)\n",
    "- [Charting the Data, Percent Below Poverty](#Charting-the-Data)\n",
    "  - [By Age](#Percent-Below-Poverty)\n",
    "\t  - [< 18](#Percent-Below-<-18yrs-old)\n",
    "\t  - [18-36](#Percent-Below-18-36)\n",
    "\t  - [Percent Below 35 - 64](#Percent-Below-35---64)\n",
    "\t  - [Percent Below 60 +](#Percent-Below-60-+)\n",
    "  - [By Education](#Education)\n",
    "      - [Below High School](#Below-High---School)\n",
    "      - [High School](#High---School-Grads)\n",
    "      - [Some College And Associates degree](#Some-College-And-Associates-degree)\n",
    "      - [Bachelor's +](#Bachelor's-degree-+)"
   ]
  },
  {
   "cell_type": "markdown",
   "metadata": {},
   "source": [
    "# The DataFrame\n",
    "arrays with additional pandas methods attached"
   ]
  },
  {
   "cell_type": "code",
   "execution_count": 87,
   "metadata": {
    "scrolled": false
   },
   "outputs": [
    {
     "data": {
      "text/html": [
       "<div>\n",
       "<style scoped>\n",
       "    .dataframe tbody tr th:only-of-type {\n",
       "        vertical-align: middle;\n",
       "    }\n",
       "\n",
       "    .dataframe tbody tr th {\n",
       "        vertical-align: top;\n",
       "    }\n",
       "\n",
       "    .dataframe thead th {\n",
       "        text-align: right;\n",
       "    }\n",
       "</style>\n",
       "<table border=\"1\" class=\"dataframe\">\n",
       "  <thead>\n",
       "    <tr style=\"text-align: right;\">\n",
       "      <th></th>\n",
       "      <th>id</th>\n",
       "      <th>Geographic Area Name</th>\n",
       "      <th>Total:</th>\n",
       "      <th>Below poverty level:</th>\n",
       "      <th>Percent below poverty level:</th>\n",
       "      <th>Total:AGE:Under 18 years</th>\n",
       "      <th>Below poverty level:AGE:Under 18 years</th>\n",
       "      <th>Percent below poverty level:AGE:Under 18 years</th>\n",
       "      <th>Total:AGE:Under 18 years!!Under 5 years</th>\n",
       "      <th>Below poverty level:AGE:Under 18 years!!Under 5 years</th>\n",
       "      <th>...</th>\n",
       "      <th>Percent below poverty level:ALL INDIVIDUALS WITH INCOME BELOW THE FOLLOWING POVERTY RATIOS:200 percent of poverty level</th>\n",
       "      <th>Total:ALL INDIVIDUALS WITH INCOME BELOW THE FOLLOWING POVERTY RATIOS:300 percent of poverty level</th>\n",
       "      <th>Below poverty level:ALL INDIVIDUALS WITH INCOME BELOW THE FOLLOWING POVERTY RATIOS:300 percent of poverty level</th>\n",
       "      <th>Percent below poverty level:ALL INDIVIDUALS WITH INCOME BELOW THE FOLLOWING POVERTY RATIOS:300 percent of poverty level</th>\n",
       "      <th>Total:ALL INDIVIDUALS WITH INCOME BELOW THE FOLLOWING POVERTY RATIOS:400 percent of poverty level</th>\n",
       "      <th>Below poverty level:ALL INDIVIDUALS WITH INCOME BELOW THE FOLLOWING POVERTY RATIOS:400 percent of poverty level</th>\n",
       "      <th>Percent below poverty level:ALL INDIVIDUALS WITH INCOME BELOW THE FOLLOWING POVERTY RATIOS:400 percent of poverty level</th>\n",
       "      <th>Total:ALL INDIVIDUALS WITH INCOME BELOW THE FOLLOWING POVERTY RATIOS:500 percent of poverty level</th>\n",
       "      <th>Below poverty level:ALL INDIVIDUALS WITH INCOME BELOW THE FOLLOWING POVERTY RATIOS:500 percent of poverty level</th>\n",
       "      <th>Percent below poverty level:ALL INDIVIDUALS WITH INCOME BELOW THE FOLLOWING POVERTY RATIOS:500 percent of poverty level</th>\n",
       "    </tr>\n",
       "  </thead>\n",
       "  <tbody>\n",
       "    <tr>\n",
       "      <th>0</th>\n",
       "      <td>0400000US02</td>\n",
       "      <td>Alaska</td>\n",
       "      <td>720869</td>\n",
       "      <td>78620</td>\n",
       "      <td>10.9</td>\n",
       "      <td>180258</td>\n",
       "      <td>25327</td>\n",
       "      <td>14.1</td>\n",
       "      <td>51329</td>\n",
       "      <td>8384</td>\n",
       "      <td>...</td>\n",
       "      <td>(X)</td>\n",
       "      <td>296900</td>\n",
       "      <td>(X)</td>\n",
       "      <td>(X)</td>\n",
       "      <td>393946</td>\n",
       "      <td>(X)</td>\n",
       "      <td>(X)</td>\n",
       "      <td>480098</td>\n",
       "      <td>(X)</td>\n",
       "      <td>(X)</td>\n",
       "    </tr>\n",
       "    <tr>\n",
       "      <th>1</th>\n",
       "      <td>0400000US23</td>\n",
       "      <td>Maine</td>\n",
       "      <td>1301941</td>\n",
       "      <td>151541</td>\n",
       "      <td>11.6</td>\n",
       "      <td>240662</td>\n",
       "      <td>34878</td>\n",
       "      <td>14.5</td>\n",
       "      <td>61960</td>\n",
       "      <td>9594</td>\n",
       "      <td>...</td>\n",
       "      <td>(X)</td>\n",
       "      <td>604470</td>\n",
       "      <td>(X)</td>\n",
       "      <td>(X)</td>\n",
       "      <td>798827</td>\n",
       "      <td>(X)</td>\n",
       "      <td>(X)</td>\n",
       "      <td>954763</td>\n",
       "      <td>(X)</td>\n",
       "      <td>(X)</td>\n",
       "    </tr>\n",
       "    <tr>\n",
       "      <th>2</th>\n",
       "      <td>0400000US37</td>\n",
       "      <td>North Carolina</td>\n",
       "      <td>10100431</td>\n",
       "      <td>1417873</td>\n",
       "      <td>14.0</td>\n",
       "      <td>2257634</td>\n",
       "      <td>455971</td>\n",
       "      <td>20.2</td>\n",
       "      <td>586457</td>\n",
       "      <td>127425</td>\n",
       "      <td>...</td>\n",
       "      <td>(X)</td>\n",
       "      <td>5151267</td>\n",
       "      <td>(X)</td>\n",
       "      <td>(X)</td>\n",
       "      <td>6549114</td>\n",
       "      <td>(X)</td>\n",
       "      <td>(X)</td>\n",
       "      <td>7602253</td>\n",
       "      <td>(X)</td>\n",
       "      <td>(X)</td>\n",
       "    </tr>\n",
       "    <tr>\n",
       "      <th>3</th>\n",
       "      <td>0400000US29</td>\n",
       "      <td>Missouri</td>\n",
       "      <td>5943658</td>\n",
       "      <td>786330</td>\n",
       "      <td>13.2</td>\n",
       "      <td>1347491</td>\n",
       "      <td>247209</td>\n",
       "      <td>18.3</td>\n",
       "      <td>362024</td>\n",
       "      <td>72100</td>\n",
       "      <td>...</td>\n",
       "      <td>(X)</td>\n",
       "      <td>2916185</td>\n",
       "      <td>(X)</td>\n",
       "      <td>(X)</td>\n",
       "      <td>3823677</td>\n",
       "      <td>(X)</td>\n",
       "      <td>(X)</td>\n",
       "      <td>4469204</td>\n",
       "      <td>(X)</td>\n",
       "      <td>(X)</td>\n",
       "    </tr>\n",
       "    <tr>\n",
       "      <th>4</th>\n",
       "      <td>0400000US42</td>\n",
       "      <td>Pennsylvania</td>\n",
       "      <td>12394000</td>\n",
       "      <td>1517870</td>\n",
       "      <td>12.2</td>\n",
       "      <td>2594554</td>\n",
       "      <td>434736</td>\n",
       "      <td>16.8</td>\n",
       "      <td>687014</td>\n",
       "      <td>121224</td>\n",
       "      <td>...</td>\n",
       "      <td>(X)</td>\n",
       "      <td>5450455</td>\n",
       "      <td>(X)</td>\n",
       "      <td>(X)</td>\n",
       "      <td>7240999</td>\n",
       "      <td>(X)</td>\n",
       "      <td>(X)</td>\n",
       "      <td>8637022</td>\n",
       "      <td>(X)</td>\n",
       "      <td>(X)</td>\n",
       "    </tr>\n",
       "  </tbody>\n",
       "</table>\n",
       "<p>5 rows × 137 columns</p>\n",
       "</div>"
      ],
      "text/plain": [
       "            id Geographic Area Name    Total:  Below poverty level:  \\\n",
       "0  0400000US02               Alaska    720869                 78620   \n",
       "1  0400000US23                Maine   1301941                151541   \n",
       "2  0400000US37       North Carolina  10100431               1417873   \n",
       "3  0400000US29             Missouri   5943658                786330   \n",
       "4  0400000US42         Pennsylvania  12394000               1517870   \n",
       "\n",
       "   Percent below poverty level:  Total:AGE:Under 18 years  \\\n",
       "0                          10.9                    180258   \n",
       "1                          11.6                    240662   \n",
       "2                          14.0                   2257634   \n",
       "3                          13.2                   1347491   \n",
       "4                          12.2                   2594554   \n",
       "\n",
       "   Below poverty level:AGE:Under 18 years  \\\n",
       "0                                   25327   \n",
       "1                                   34878   \n",
       "2                                  455971   \n",
       "3                                  247209   \n",
       "4                                  434736   \n",
       "\n",
       "   Percent below poverty level:AGE:Under 18 years  \\\n",
       "0                                            14.1   \n",
       "1                                            14.5   \n",
       "2                                            20.2   \n",
       "3                                            18.3   \n",
       "4                                            16.8   \n",
       "\n",
       "   Total:AGE:Under 18 years!!Under 5 years  \\\n",
       "0                                    51329   \n",
       "1                                    61960   \n",
       "2                                   586457   \n",
       "3                                   362024   \n",
       "4                                   687014   \n",
       "\n",
       "   Below poverty level:AGE:Under 18 years!!Under 5 years  ...  \\\n",
       "0                                               8384      ...   \n",
       "1                                               9594      ...   \n",
       "2                                             127425      ...   \n",
       "3                                              72100      ...   \n",
       "4                                             121224      ...   \n",
       "\n",
       "   Percent below poverty level:ALL INDIVIDUALS WITH INCOME BELOW THE FOLLOWING POVERTY RATIOS:200 percent of poverty level  \\\n",
       "0                                                (X)                                                                         \n",
       "1                                                (X)                                                                         \n",
       "2                                                (X)                                                                         \n",
       "3                                                (X)                                                                         \n",
       "4                                                (X)                                                                         \n",
       "\n",
       "   Total:ALL INDIVIDUALS WITH INCOME BELOW THE FOLLOWING POVERTY RATIOS:300 percent of poverty level  \\\n",
       "0                                             296900                                                   \n",
       "1                                             604470                                                   \n",
       "2                                            5151267                                                   \n",
       "3                                            2916185                                                   \n",
       "4                                            5450455                                                   \n",
       "\n",
       "   Below poverty level:ALL INDIVIDUALS WITH INCOME BELOW THE FOLLOWING POVERTY RATIOS:300 percent of poverty level  \\\n",
       "0                                                (X)                                                                 \n",
       "1                                                (X)                                                                 \n",
       "2                                                (X)                                                                 \n",
       "3                                                (X)                                                                 \n",
       "4                                                (X)                                                                 \n",
       "\n",
       "   Percent below poverty level:ALL INDIVIDUALS WITH INCOME BELOW THE FOLLOWING POVERTY RATIOS:300 percent of poverty level  \\\n",
       "0                                                (X)                                                                         \n",
       "1                                                (X)                                                                         \n",
       "2                                                (X)                                                                         \n",
       "3                                                (X)                                                                         \n",
       "4                                                (X)                                                                         \n",
       "\n",
       "   Total:ALL INDIVIDUALS WITH INCOME BELOW THE FOLLOWING POVERTY RATIOS:400 percent of poverty level  \\\n",
       "0                                             393946                                                   \n",
       "1                                             798827                                                   \n",
       "2                                            6549114                                                   \n",
       "3                                            3823677                                                   \n",
       "4                                            7240999                                                   \n",
       "\n",
       "   Below poverty level:ALL INDIVIDUALS WITH INCOME BELOW THE FOLLOWING POVERTY RATIOS:400 percent of poverty level  \\\n",
       "0                                                (X)                                                                 \n",
       "1                                                (X)                                                                 \n",
       "2                                                (X)                                                                 \n",
       "3                                                (X)                                                                 \n",
       "4                                                (X)                                                                 \n",
       "\n",
       "   Percent below poverty level:ALL INDIVIDUALS WITH INCOME BELOW THE FOLLOWING POVERTY RATIOS:400 percent of poverty level  \\\n",
       "0                                                (X)                                                                         \n",
       "1                                                (X)                                                                         \n",
       "2                                                (X)                                                                         \n",
       "3                                                (X)                                                                         \n",
       "4                                                (X)                                                                         \n",
       "\n",
       "   Total:ALL INDIVIDUALS WITH INCOME BELOW THE FOLLOWING POVERTY RATIOS:500 percent of poverty level  \\\n",
       "0                                             480098                                                   \n",
       "1                                             954763                                                   \n",
       "2                                            7602253                                                   \n",
       "3                                            4469204                                                   \n",
       "4                                            8637022                                                   \n",
       "\n",
       "   Below poverty level:ALL INDIVIDUALS WITH INCOME BELOW THE FOLLOWING POVERTY RATIOS:500 percent of poverty level  \\\n",
       "0                                                (X)                                                                 \n",
       "1                                                (X)                                                                 \n",
       "2                                                (X)                                                                 \n",
       "3                                                (X)                                                                 \n",
       "4                                                (X)                                                                 \n",
       "\n",
       "   Percent below poverty level:ALL INDIVIDUALS WITH INCOME BELOW THE FOLLOWING POVERTY RATIOS:500 percent of poverty level  \n",
       "0                                                (X)                                                                        \n",
       "1                                                (X)                                                                        \n",
       "2                                                (X)                                                                        \n",
       "3                                                (X)                                                                        \n",
       "4                                                (X)                                                                        \n",
       "\n",
       "[5 rows x 137 columns]"
      ]
     },
     "execution_count": 87,
     "metadata": {},
     "output_type": "execute_result"
    }
   ],
   "source": [
    "%matplotlib inline\n",
    "import numpy as np\n",
    "import pandas as pd\n",
    "from scipy import stats\n",
    "\n",
    "# save file-data to var, using pandas read_file method\n",
    "# assign to a DataFrame\n",
    "df = pd.read_csv(\"./cleaned.csv\")\n",
    "\n",
    "# output a short-exampe of the data\n",
    "df.head()\n",
    "# df"
   ]
  },
  {
   "cell_type": "markdown",
   "metadata": {},
   "source": [
    "# Headers"
   ]
  },
  {
   "cell_type": "code",
   "execution_count": 2,
   "metadata": {
    "scrolled": false
   },
   "outputs": [
    {
     "data": {
      "text/plain": [
       "Index(['id', 'Geographic Area Name', 'Total:', 'Below poverty level:',\n",
       "       'Percent below poverty level:', 'Total:AGE:Under 18 years',\n",
       "       'Below poverty level:AGE:Under 18 years',\n",
       "       'Percent below poverty level:AGE:Under 18 years',\n",
       "       'Total:AGE:Under 18 years!!Under 5 years',\n",
       "       'Below poverty level:AGE:Under 18 years!!Under 5 years',\n",
       "       ...\n",
       "       'Percent below poverty level:ALL INDIVIDUALS WITH INCOME BELOW THE FOLLOWING POVERTY RATIOS:200 percent of poverty level',\n",
       "       'Total:ALL INDIVIDUALS WITH INCOME BELOW THE FOLLOWING POVERTY RATIOS:300 percent of poverty level',\n",
       "       'Below poverty level:ALL INDIVIDUALS WITH INCOME BELOW THE FOLLOWING POVERTY RATIOS:300 percent of poverty level',\n",
       "       'Percent below poverty level:ALL INDIVIDUALS WITH INCOME BELOW THE FOLLOWING POVERTY RATIOS:300 percent of poverty level',\n",
       "       'Total:ALL INDIVIDUALS WITH INCOME BELOW THE FOLLOWING POVERTY RATIOS:400 percent of poverty level',\n",
       "       'Below poverty level:ALL INDIVIDUALS WITH INCOME BELOW THE FOLLOWING POVERTY RATIOS:400 percent of poverty level',\n",
       "       'Percent below poverty level:ALL INDIVIDUALS WITH INCOME BELOW THE FOLLOWING POVERTY RATIOS:400 percent of poverty level',\n",
       "       'Total:ALL INDIVIDUALS WITH INCOME BELOW THE FOLLOWING POVERTY RATIOS:500 percent of poverty level',\n",
       "       'Below poverty level:ALL INDIVIDUALS WITH INCOME BELOW THE FOLLOWING POVERTY RATIOS:500 percent of poverty level',\n",
       "       'Percent below poverty level:ALL INDIVIDUALS WITH INCOME BELOW THE FOLLOWING POVERTY RATIOS:500 percent of poverty level'],\n",
       "      dtype='object', length=137)"
      ]
     },
     "execution_count": 2,
     "metadata": {},
     "output_type": "execute_result"
    }
   ],
   "source": [
    "df.columns"
   ]
  },
  {
   "cell_type": "markdown",
   "metadata": {},
   "source": [
    "# Charting the Data"
   ]
  },
  {
   "cell_type": "markdown",
   "metadata": {},
   "source": [
    "## below18 vs noHS"
   ]
  },
  {
   "cell_type": "code",
   "execution_count": 3,
   "metadata": {
    "scrolled": true
   },
   "outputs": [
    {
     "data": {
      "text/plain": [
       "<matplotlib.collections.PathCollection at 0x1a25f5b910>"
      ]
     },
     "execution_count": 3,
     "metadata": {},
     "output_type": "execute_result"
    },
    {
     "data": {
      "image/png": "[encoded data removed]",
      "text/plain": [
       "<Figure size 432x288 with 1 Axes>"
      ]
     },
     "metadata": {
      "needs_background": "light"
     },
     "output_type": "display_data"
    }
   ],
   "source": [
    "%matplotlib inline\n",
    "import numpy as np\n",
    "import matplotlib.pyplot as plt\n",
    "\n",
    "perc_no_hs = df['Percent below poverty level:EDUCATIONAL ATTAINMENT:Population 25 years and over!!Less than high school graduate']\n",
    "perc_below_18 = df['Percent below poverty level:AGE:Under 18 years']\n",
    "# plt.scatter(perc_below_18,perc_no_hs)"
   ]
  },
  {
   "cell_type": "markdown",
   "metadata": {},
   "source": [
    "## outlier-less data"
   ]
  },
  {
   "cell_type": "code",
   "execution_count": 101,
   "metadata": {},
   "outputs": [],
   "source": [
    "%matplotlib inline\n",
    "import numpy as np\n",
    "import matplotlib.pyplot as plt\n",
    "\n",
    "#\n",
    "### Education Levels\n",
    "#\n",
    "\n",
    "# No-HS\n",
    "perc_no_hs = df['Percent below poverty level:EDUCATIONAL ATTAINMENT:Population 25 years and over!!Less than high school graduate']\n",
    "no_hs_outliers = perc_no_hs[perc_no_hs.between(perc_no_hs.quantile(.05), perc_no_hs.quantile(.95))]\n",
    "\n",
    "#HS\n",
    "perc_hs = df['Percent below poverty level:EDUCATIONAL ATTAINMENT:Population 25 years and over!!High school graduate (includes equivalency)']\n",
    "hs_outliers = perc_hs[perc_hs.between(perc_hs.quantile(.03), perc_hs.quantile(.95))]\n",
    "\n",
    "# Some College\n",
    "perc_some_college = df[\"Percent below poverty level:EDUCATIONAL ATTAINMENT:Population 25 years and over!!Some college, associate's degree\"]\n",
    "some_college_outliers = perc_some_college[perc_some_college.between(perc_some_college.quantile(.05), perc_some_college.quantile(.95))]\n",
    "\n",
    "#Bachelors + \n",
    "perc_bach = df[\"Percent below poverty level:EDUCATIONAL ATTAINMENT:Population 25 years and over!!Bachelor's degree or higher\"]\n",
    "bach_outliers = perc_bach[perc_bach.between(perc_bach.quantile(.05), perc_bach.quantile(.94))]\n",
    "\n",
    "#\n",
    "### Ages\n",
    "#\n",
    "\n",
    "# < 18\n",
    "perc_below_18 = df['Percent below poverty level:AGE:Under 18 years']\n",
    "perc_below_18_no_out = perc_below_18[perc_below_18.between(perc_below_18.quantile(.03), perc_below_18.quantile(.95))]\n",
    "\n",
    "# 18-34\n",
    "perc_below_18_34 = df['Percent below poverty level:AGE:18 to 64 years!!18 to 34 years']\n",
    "no_out_18_34 = perc_below_18_36[perc_below_18_36.between(perc_below_18_36.quantile(.03), perc_below_18_36.quantile(.94))]\n",
    "\n",
    "# 35 - 64\n",
    "perc_below_35_64 = df['Percent below poverty level:AGE:18 to 64 years!!35 to 64 years']\n",
    "no_out_35_64 = perc_below_35_64[perc_below_35_64.between(perc_below_35_64.quantile(.03), perc_below_35_64.quantile(.95))]\n",
    "\n",
    "# 60 +\n",
    "perc_60_plus = df['Percent below poverty level:AGE:60 years and over']\n",
    "no_out_60_plus = perc_60_plus[perc_60_plus.between(perc_60_plus.quantile(.03), perc_60_plus.quantile(.95))]\n",
    "\n",
    "# plt.scatter(no_out_60_plus,bach_outliers)"
   ]
  },
  {
   "cell_type": "markdown",
   "metadata": {},
   "source": [
    "# Scatterploting Outlier-less data"
   ]
  },
  {
   "cell_type": "markdown",
   "metadata": {},
   "source": [
    "## No HighSchool v Age"
   ]
  },
  {
   "cell_type": "code",
   "execution_count": 97,
   "metadata": {},
   "outputs": [
    {
     "data": {
      "text/plain": [
       "<matplotlib.collections.PathCollection at 0x1a26851950>"
      ]
     },
     "execution_count": 97,
     "metadata": {},
     "output_type": "execute_result"
    },
    {
     "data": {
      "image/png": "[encoded data removed]",
      "text/plain": [
       "<Figure size 432x288 with 1 Axes>"
      ]
     },
     "metadata": {
      "needs_background": "light"
     },
     "output_type": "display_data"
    }
   ],
   "source": [
    "# < 18 yrs\n",
    "plt.scatter(no_hs_outliers,perc_below_18_no_out)"
   ]
  },
  {
   "cell_type": "code",
   "execution_count": 98,
   "metadata": {},
   "outputs": [
    {
     "data": {
      "text/plain": [
       "<matplotlib.collections.PathCollection at 0x1a26de9150>"
      ]
     },
     "execution_count": 98,
     "metadata": {},
     "output_type": "execute_result"
    },
    {
     "data": {
      "image/png": "[encoded data removed]",
      "text/plain": [
       "<Figure size 432x288 with 1 Axes>"
      ]
     },
     "metadata": {
      "needs_background": "light"
     },
     "output_type": "display_data"
    }
   ],
   "source": [
    "# 18 - 34\n",
    "plt.scatter(no_hs_outliers,no_out_18_34)"
   ]
  },
  {
   "cell_type": "code",
   "execution_count": 102,
   "metadata": {},
   "outputs": [
    {
     "data": {
      "text/plain": [
       "<matplotlib.collections.PathCollection at 0x1a26ea9d90>"
      ]
     },
     "execution_count": 102,
     "metadata": {},
     "output_type": "execute_result"
    },
    {
     "data": {
      "image/png": "[encoded data removed]",
      "text/plain": [
       "<Figure size 432x288 with 1 Axes>"
      ]
     },
     "metadata": {
      "needs_background": "light"
     },
     "output_type": "display_data"
    }
   ],
   "source": [
    "# 35 - 64\n",
    "plt.scatter(no_hs_outliers,no_out_35_64)"
   ]
  },
  {
   "cell_type": "code",
   "execution_count": 103,
   "metadata": {},
   "outputs": [
    {
     "data": {
      "text/plain": [
       "<matplotlib.collections.PathCollection at 0x1a26fb0190>"
      ]
     },
     "execution_count": 103,
     "metadata": {},
     "output_type": "execute_result"
    },
    {
     "data": {
      "image/png": "[encoded data removed]",
      "text/plain": [
       "<Figure size 432x288 with 1 Axes>"
      ]
     },
     "metadata": {
      "needs_background": "light"
     },
     "output_type": "display_data"
    }
   ],
   "source": [
    "# 60 +\n",
    "plt.scatter(no_hs_outliers,no_out_60_plus)"
   ]
  },
  {
   "cell_type": "markdown",
   "metadata": {},
   "source": [
    "## HighSchool Grads v Age"
   ]
  },
  {
   "cell_type": "code",
   "execution_count": 104,
   "metadata": {},
   "outputs": [
    {
     "data": {
      "text/plain": [
       "<matplotlib.collections.PathCollection at 0x1a26fedb50>"
      ]
     },
     "execution_count": 104,
     "metadata": {},
     "output_type": "execute_result"
    },
    {
     "data": {
      "image/png": "[encoded data removed]",
      "text/plain": [
       "<Figure size 432x288 with 1 Axes>"
      ]
     },
     "metadata": {
      "needs_background": "light"
     },
     "output_type": "display_data"
    }
   ],
   "source": [
    "# < 18 yrs\n",
    "plt.scatter(hs_outliers,perc_below_18_no_out)"
   ]
  },
  {
   "cell_type": "code",
   "execution_count": 105,
   "metadata": {},
   "outputs": [
    {
     "data": {
      "text/plain": [
       "<matplotlib.collections.PathCollection at 0x1a2712f9d0>"
      ]
     },
     "execution_count": 105,
     "metadata": {},
     "output_type": "execute_result"
    },
    {
     "data": {
      "image/png": "[encoded data removed]",
      "text/plain": [
       "<Figure size 432x288 with 1 Axes>"
      ]
     },
     "metadata": {
      "needs_background": "light"
     },
     "output_type": "display_data"
    }
   ],
   "source": [
    "#18 - 35 yrs\n",
    "plt.scatter(hs_outliers,no_out_18_34)"
   ]
  },
  {
   "cell_type": "code",
   "execution_count": 106,
   "metadata": {},
   "outputs": [
    {
     "data": {
      "text/plain": [
       "<matplotlib.collections.PathCollection at 0x1a271ea610>"
      ]
     },
     "execution_count": 106,
     "metadata": {},
     "output_type": "execute_result"
    },
    {
     "data": {
      "image/png": "[encoded data removed]",
      "text/plain": [
       "<Figure size 432x288 with 1 Axes>"
      ]
     },
     "metadata": {
      "needs_background": "light"
     },
     "output_type": "display_data"
    }
   ],
   "source": [
    "#35 - 64 yrs\n",
    "plt.scatter(hs_outliers,no_out_35_64)"
   ]
  },
  {
   "cell_type": "code",
   "execution_count": 108,
   "metadata": {},
   "outputs": [
    {
     "data": {
      "text/plain": [
       "<matplotlib.collections.PathCollection at 0x1a26b52d50>"
      ]
     },
     "execution_count": 108,
     "metadata": {},
     "output_type": "execute_result"
    },
    {
     "data": {
      "image/png": "[encoded data removed]",
      "text/plain": [
       "<Figure size 432x288 with 1 Axes>"
      ]
     },
     "metadata": {
      "needs_background": "light"
     },
     "output_type": "display_data"
    }
   ],
   "source": [
    "# 60 + \n",
    "plt.scatter(hs_outliers,no_out_60_plus)"
   ]
  },
  {
   "cell_type": "markdown",
   "metadata": {},
   "source": [
    "## Some College v Age"
   ]
  },
  {
   "cell_type": "code",
   "execution_count": 109,
   "metadata": {},
   "outputs": [
    {
     "data": {
      "text/plain": [
       "<matplotlib.collections.PathCollection at 0x1a26bf1290>"
      ]
     },
     "execution_count": 109,
     "metadata": {},
     "output_type": "execute_result"
    },
    {
     "data": {
      "image/png": "[encoded data removed]",
      "text/plain": [
       "<Figure size 432x288 with 1 Axes>"
      ]
     },
     "metadata": {
      "needs_background": "light"
     },
     "output_type": "display_data"
    }
   ],
   "source": [
    "# < 18 yrs\n",
    "plt.scatter(some_college_outliers,perc_below_18_no_out)"
   ]
  },
  {
   "cell_type": "code",
   "execution_count": 110,
   "metadata": {},
   "outputs": [
    {
     "data": {
      "text/plain": [
       "<matplotlib.collections.PathCollection at 0x1a272b8450>"
      ]
     },
     "execution_count": 110,
     "metadata": {},
     "output_type": "execute_result"
    },
    {
     "data": {
      "image/png": "[encoded data removed]",
      "text/plain": [
       "<Figure size 432x288 with 1 Axes>"
      ]
     },
     "metadata": {
      "needs_background": "light"
     },
     "output_type": "display_data"
    }
   ],
   "source": [
    "# 18-35 yrs\n",
    "plt.scatter(some_college_outliers,no_out_18_34)"
   ]
  },
  {
   "cell_type": "code",
   "execution_count": 111,
   "metadata": {},
   "outputs": [
    {
     "data": {
      "text/plain": [
       "<matplotlib.collections.PathCollection at 0x1a2738d890>"
      ]
     },
     "execution_count": 111,
     "metadata": {},
     "output_type": "execute_result"
    },
    {
     "data": {
      "image/png": "[encoded data removed]",
      "text/plain": [
       "<Figure size 432x288 with 1 Axes>"
      ]
     },
     "metadata": {
      "needs_background": "light"
     },
     "output_type": "display_data"
    }
   ],
   "source": [
    "# 35 - 64\n",
    "plt.scatter(some_college_outliers,no_out_35_64)"
   ]
  },
  {
   "cell_type": "code",
   "execution_count": 112,
   "metadata": {},
   "outputs": [
    {
     "data": {
      "text/plain": [
       "<matplotlib.collections.PathCollection at 0x1a273dd750>"
      ]
     },
     "execution_count": 112,
     "metadata": {},
     "output_type": "execute_result"
    },
    {
     "data": {
      "image/png": "[encoded data removed]",
      "text/plain": [
       "<Figure size 432x288 with 1 Axes>"
      ]
     },
     "metadata": {
      "needs_background": "light"
     },
     "output_type": "display_data"
    }
   ],
   "source": [
    "# 60 +\n",
    "plt.scatter(some_college_outliers,no_out_60_plus)"
   ]
  },
  {
   "cell_type": "code",
   "execution_count": null,
   "metadata": {},
   "outputs": [],
   "source": []
  }
 ],
 "metadata": {
  "kernelspec": {
   "display_name": "Python 3",
   "language": "python",
   "name": "python3"
  },
  "language_info": {
   "codemirror_mode": {
    "name": "ipython",
    "version": 3
   },
   "file_extension": ".py",
   "mimetype": "text/x-python",
   "name": "python",
   "nbconvert_exporter": "python",
   "pygments_lexer": "ipython3",
   "version": "3.7.6"
  }
 },
 "nbformat": 4,
 "nbformat_minor": 2
}
