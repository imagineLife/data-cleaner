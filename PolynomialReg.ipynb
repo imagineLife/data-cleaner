{
 "cells": [
  {
   "cell_type": "markdown",
   "metadata": {},
   "source": [
    "# Polynomial Regression"
   ]
  },
  {
   "cell_type": "markdown",
   "metadata": {},
   "source": [
    "Contents\n",
    "- [Overview](#Overview)\n",
    "- [Hows it Work && OLS](#Hows-it-Work-and-OLS)\n",
    "- [Measuring how Good a Regression is](#Measuring-how-Good-a-Regression-is)\n",
    "  - [Using R Squared](#Using-R-Squared)\n",
    "  - [Computing R Squared](#Computing-R-Squared)\n",
    "  - [Interpreting R Squared](#Interpreting-R-Squared)\n",
    "- [In Python](#In-Python)\n",
    "  - [The Data to Compare](#The-Data-to-Compare)\n",
    "  - [Scatterplots](#Scatterplots)  \n",
    "  - [Using stats to calculate linear regression](#Using-stats-to-calculate-linear-regression)"
   ]
  },
  {
   "cell_type": "markdown",
   "metadata": {},
   "source": [
    "# Overview\n",
    "- a curved best-fit-line\n",
    "- not all relationships are linear"
   ]
  },
  {
   "cell_type": "markdown",
   "metadata": {},
   "source": [
    "# Hows it Work\n",
    "- Linear formula\n",
    "  - y = mx + b\n",
    "    - HERE is a \"first order\" or \"first degree\"  polynomial, referring to thex power "
   ]
  },
  {
   "cell_type": "markdown",
   "metadata": {},
   "source": [
    "# Measuring how Good a Regression is\n",
    "## Using R Squared\n",
    "- the coefficient of determination\n",
    "\n",
    "The fraction of the total variation\n",
    "\n",
    "## Computing R Squared\n",
    "- numerator\n",
    "  - sum of squared-errors\n",
    "\n",
    "- denominator\n",
    "  - sum of squared variation from mean  \n",
    "  \n",
    "## Interpreting R Squared\n",
    "Range is from 0 to 1  \n",
    "0 is bad, no variance is captured, fit is terrible    \n",
    "1 is good, all variance is captured, fit is great"
   ]
  },
  {
   "cell_type": "markdown",
   "metadata": {},
   "source": [
    "# In Python"
   ]
  },
  {
   "cell_type": "markdown",
   "metadata": {},
   "source": [
    "## The DataFrame"
   ]
  },
  {
   "cell_type": "code",
   "execution_count": 17,
   "metadata": {},
   "outputs": [
    {
     "data": {
      "text/html": [
       "<div>\n",
       "<style scoped>\n",
       "    .dataframe tbody tr th:only-of-type {\n",
       "        vertical-align: middle;\n",
       "    }\n",
       "\n",
       "    .dataframe tbody tr th {\n",
       "        vertical-align: top;\n",
       "    }\n",
       "\n",
       "    .dataframe thead th {\n",
       "        text-align: right;\n",
       "    }\n",
       "</style>\n",
       "<table border=\"1\" class=\"dataframe\">\n",
       "  <thead>\n",
       "    <tr style=\"text-align: right;\">\n",
       "      <th></th>\n",
       "      <th>id</th>\n",
       "      <th>Geographic Area Name</th>\n",
       "      <th>Total:</th>\n",
       "      <th>Below poverty level:</th>\n",
       "      <th>Percent below poverty level:</th>\n",
       "      <th>Total:AGE:Under 18 years</th>\n",
       "      <th>Below poverty level:AGE:Under 18 years</th>\n",
       "      <th>Percent below poverty level:AGE:Under 18 years</th>\n",
       "      <th>Total:AGE:Under 18 years!!Under 5 years</th>\n",
       "      <th>Below poverty level:AGE:Under 18 years!!Under 5 years</th>\n",
       "      <th>...</th>\n",
       "      <th>Percent below poverty level:ALL INDIVIDUALS WITH INCOME BELOW THE FOLLOWING POVERTY RATIOS:200 percent of poverty level</th>\n",
       "      <th>Total:ALL INDIVIDUALS WITH INCOME BELOW THE FOLLOWING POVERTY RATIOS:300 percent of poverty level</th>\n",
       "      <th>Below poverty level:ALL INDIVIDUALS WITH INCOME BELOW THE FOLLOWING POVERTY RATIOS:300 percent of poverty level</th>\n",
       "      <th>Percent below poverty level:ALL INDIVIDUALS WITH INCOME BELOW THE FOLLOWING POVERTY RATIOS:300 percent of poverty level</th>\n",
       "      <th>Total:ALL INDIVIDUALS WITH INCOME BELOW THE FOLLOWING POVERTY RATIOS:400 percent of poverty level</th>\n",
       "      <th>Below poverty level:ALL INDIVIDUALS WITH INCOME BELOW THE FOLLOWING POVERTY RATIOS:400 percent of poverty level</th>\n",
       "      <th>Percent below poverty level:ALL INDIVIDUALS WITH INCOME BELOW THE FOLLOWING POVERTY RATIOS:400 percent of poverty level</th>\n",
       "      <th>Total:ALL INDIVIDUALS WITH INCOME BELOW THE FOLLOWING POVERTY RATIOS:500 percent of poverty level</th>\n",
       "      <th>Below poverty level:ALL INDIVIDUALS WITH INCOME BELOW THE FOLLOWING POVERTY RATIOS:500 percent of poverty level</th>\n",
       "      <th>Percent below poverty level:ALL INDIVIDUALS WITH INCOME BELOW THE FOLLOWING POVERTY RATIOS:500 percent of poverty level</th>\n",
       "    </tr>\n",
       "  </thead>\n",
       "  <tbody>\n",
       "    <tr>\n",
       "      <th>0</th>\n",
       "      <td>0400000US02</td>\n",
       "      <td>Alaska</td>\n",
       "      <td>720869</td>\n",
       "      <td>78620</td>\n",
       "      <td>10.9</td>\n",
       "      <td>180258</td>\n",
       "      <td>25327</td>\n",
       "      <td>14.1</td>\n",
       "      <td>51329</td>\n",
       "      <td>8384</td>\n",
       "      <td>...</td>\n",
       "      <td>(X)</td>\n",
       "      <td>296900</td>\n",
       "      <td>(X)</td>\n",
       "      <td>(X)</td>\n",
       "      <td>393946</td>\n",
       "      <td>(X)</td>\n",
       "      <td>(X)</td>\n",
       "      <td>480098</td>\n",
       "      <td>(X)</td>\n",
       "      <td>(X)</td>\n",
       "    </tr>\n",
       "    <tr>\n",
       "      <th>1</th>\n",
       "      <td>0400000US23</td>\n",
       "      <td>Maine</td>\n",
       "      <td>1301941</td>\n",
       "      <td>151541</td>\n",
       "      <td>11.6</td>\n",
       "      <td>240662</td>\n",
       "      <td>34878</td>\n",
       "      <td>14.5</td>\n",
       "      <td>61960</td>\n",
       "      <td>9594</td>\n",
       "      <td>...</td>\n",
       "      <td>(X)</td>\n",
       "      <td>604470</td>\n",
       "      <td>(X)</td>\n",
       "      <td>(X)</td>\n",
       "      <td>798827</td>\n",
       "      <td>(X)</td>\n",
       "      <td>(X)</td>\n",
       "      <td>954763</td>\n",
       "      <td>(X)</td>\n",
       "      <td>(X)</td>\n",
       "    </tr>\n",
       "    <tr>\n",
       "      <th>2</th>\n",
       "      <td>0400000US37</td>\n",
       "      <td>North Carolina</td>\n",
       "      <td>10100431</td>\n",
       "      <td>1417873</td>\n",
       "      <td>14.0</td>\n",
       "      <td>2257634</td>\n",
       "      <td>455971</td>\n",
       "      <td>20.2</td>\n",
       "      <td>586457</td>\n",
       "      <td>127425</td>\n",
       "      <td>...</td>\n",
       "      <td>(X)</td>\n",
       "      <td>5151267</td>\n",
       "      <td>(X)</td>\n",
       "      <td>(X)</td>\n",
       "      <td>6549114</td>\n",
       "      <td>(X)</td>\n",
       "      <td>(X)</td>\n",
       "      <td>7602253</td>\n",
       "      <td>(X)</td>\n",
       "      <td>(X)</td>\n",
       "    </tr>\n",
       "    <tr>\n",
       "      <th>3</th>\n",
       "      <td>0400000US29</td>\n",
       "      <td>Missouri</td>\n",
       "      <td>5943658</td>\n",
       "      <td>786330</td>\n",
       "      <td>13.2</td>\n",
       "      <td>1347491</td>\n",
       "      <td>247209</td>\n",
       "      <td>18.3</td>\n",
       "      <td>362024</td>\n",
       "      <td>72100</td>\n",
       "      <td>...</td>\n",
       "      <td>(X)</td>\n",
       "      <td>2916185</td>\n",
       "      <td>(X)</td>\n",
       "      <td>(X)</td>\n",
       "      <td>3823677</td>\n",
       "      <td>(X)</td>\n",
       "      <td>(X)</td>\n",
       "      <td>4469204</td>\n",
       "      <td>(X)</td>\n",
       "      <td>(X)</td>\n",
       "    </tr>\n",
       "    <tr>\n",
       "      <th>4</th>\n",
       "      <td>0400000US42</td>\n",
       "      <td>Pennsylvania</td>\n",
       "      <td>12394000</td>\n",
       "      <td>1517870</td>\n",
       "      <td>12.2</td>\n",
       "      <td>2594554</td>\n",
       "      <td>434736</td>\n",
       "      <td>16.8</td>\n",
       "      <td>687014</td>\n",
       "      <td>121224</td>\n",
       "      <td>...</td>\n",
       "      <td>(X)</td>\n",
       "      <td>5450455</td>\n",
       "      <td>(X)</td>\n",
       "      <td>(X)</td>\n",
       "      <td>7240999</td>\n",
       "      <td>(X)</td>\n",
       "      <td>(X)</td>\n",
       "      <td>8637022</td>\n",
       "      <td>(X)</td>\n",
       "      <td>(X)</td>\n",
       "    </tr>\n",
       "  </tbody>\n",
       "</table>\n",
       "<p>5 rows × 137 columns</p>\n",
       "</div>"
      ],
      "text/plain": [
       "            id Geographic Area Name    Total:  Below poverty level:  \\\n",
       "0  0400000US02               Alaska    720869                 78620   \n",
       "1  0400000US23                Maine   1301941                151541   \n",
       "2  0400000US37       North Carolina  10100431               1417873   \n",
       "3  0400000US29             Missouri   5943658                786330   \n",
       "4  0400000US42         Pennsylvania  12394000               1517870   \n",
       "\n",
       "   Percent below poverty level:  Total:AGE:Under 18 years  \\\n",
       "0                          10.9                    180258   \n",
       "1                          11.6                    240662   \n",
       "2                          14.0                   2257634   \n",
       "3                          13.2                   1347491   \n",
       "4                          12.2                   2594554   \n",
       "\n",
       "   Below poverty level:AGE:Under 18 years  \\\n",
       "0                                   25327   \n",
       "1                                   34878   \n",
       "2                                  455971   \n",
       "3                                  247209   \n",
       "4                                  434736   \n",
       "\n",
       "   Percent below poverty level:AGE:Under 18 years  \\\n",
       "0                                            14.1   \n",
       "1                                            14.5   \n",
       "2                                            20.2   \n",
       "3                                            18.3   \n",
       "4                                            16.8   \n",
       "\n",
       "   Total:AGE:Under 18 years!!Under 5 years  \\\n",
       "0                                    51329   \n",
       "1                                    61960   \n",
       "2                                   586457   \n",
       "3                                   362024   \n",
       "4                                   687014   \n",
       "\n",
       "   Below poverty level:AGE:Under 18 years!!Under 5 years  ...  \\\n",
       "0                                               8384      ...   \n",
       "1                                               9594      ...   \n",
       "2                                             127425      ...   \n",
       "3                                              72100      ...   \n",
       "4                                             121224      ...   \n",
       "\n",
       "   Percent below poverty level:ALL INDIVIDUALS WITH INCOME BELOW THE FOLLOWING POVERTY RATIOS:200 percent of poverty level  \\\n",
       "0                                                (X)                                                                         \n",
       "1                                                (X)                                                                         \n",
       "2                                                (X)                                                                         \n",
       "3                                                (X)                                                                         \n",
       "4                                                (X)                                                                         \n",
       "\n",
       "   Total:ALL INDIVIDUALS WITH INCOME BELOW THE FOLLOWING POVERTY RATIOS:300 percent of poverty level  \\\n",
       "0                                             296900                                                   \n",
       "1                                             604470                                                   \n",
       "2                                            5151267                                                   \n",
       "3                                            2916185                                                   \n",
       "4                                            5450455                                                   \n",
       "\n",
       "   Below poverty level:ALL INDIVIDUALS WITH INCOME BELOW THE FOLLOWING POVERTY RATIOS:300 percent of poverty level  \\\n",
       "0                                                (X)                                                                 \n",
       "1                                                (X)                                                                 \n",
       "2                                                (X)                                                                 \n",
       "3                                                (X)                                                                 \n",
       "4                                                (X)                                                                 \n",
       "\n",
       "   Percent below poverty level:ALL INDIVIDUALS WITH INCOME BELOW THE FOLLOWING POVERTY RATIOS:300 percent of poverty level  \\\n",
       "0                                                (X)                                                                         \n",
       "1                                                (X)                                                                         \n",
       "2                                                (X)                                                                         \n",
       "3                                                (X)                                                                         \n",
       "4                                                (X)                                                                         \n",
       "\n",
       "   Total:ALL INDIVIDUALS WITH INCOME BELOW THE FOLLOWING POVERTY RATIOS:400 percent of poverty level  \\\n",
       "0                                             393946                                                   \n",
       "1                                             798827                                                   \n",
       "2                                            6549114                                                   \n",
       "3                                            3823677                                                   \n",
       "4                                            7240999                                                   \n",
       "\n",
       "   Below poverty level:ALL INDIVIDUALS WITH INCOME BELOW THE FOLLOWING POVERTY RATIOS:400 percent of poverty level  \\\n",
       "0                                                (X)                                                                 \n",
       "1                                                (X)                                                                 \n",
       "2                                                (X)                                                                 \n",
       "3                                                (X)                                                                 \n",
       "4                                                (X)                                                                 \n",
       "\n",
       "   Percent below poverty level:ALL INDIVIDUALS WITH INCOME BELOW THE FOLLOWING POVERTY RATIOS:400 percent of poverty level  \\\n",
       "0                                                (X)                                                                         \n",
       "1                                                (X)                                                                         \n",
       "2                                                (X)                                                                         \n",
       "3                                                (X)                                                                         \n",
       "4                                                (X)                                                                         \n",
       "\n",
       "   Total:ALL INDIVIDUALS WITH INCOME BELOW THE FOLLOWING POVERTY RATIOS:500 percent of poverty level  \\\n",
       "0                                             480098                                                   \n",
       "1                                             954763                                                   \n",
       "2                                            7602253                                                   \n",
       "3                                            4469204                                                   \n",
       "4                                            8637022                                                   \n",
       "\n",
       "   Below poverty level:ALL INDIVIDUALS WITH INCOME BELOW THE FOLLOWING POVERTY RATIOS:500 percent of poverty level  \\\n",
       "0                                                (X)                                                                 \n",
       "1                                                (X)                                                                 \n",
       "2                                                (X)                                                                 \n",
       "3                                                (X)                                                                 \n",
       "4                                                (X)                                                                 \n",
       "\n",
       "   Percent below poverty level:ALL INDIVIDUALS WITH INCOME BELOW THE FOLLOWING POVERTY RATIOS:500 percent of poverty level  \n",
       "0                                                (X)                                                                        \n",
       "1                                                (X)                                                                        \n",
       "2                                                (X)                                                                        \n",
       "3                                                (X)                                                                        \n",
       "4                                                (X)                                                                        \n",
       "\n",
       "[5 rows x 137 columns]"
      ]
     },
     "execution_count": 17,
     "metadata": {},
     "output_type": "execute_result"
    }
   ],
   "source": [
    "%matplotlib inline\n",
    "import numpy as np\n",
    "import pandas as pd\n",
    "from scipy import stats\n",
    "from pylab import *\n",
    "\n",
    "# save file-data to var, using pandas read_file method\n",
    "# assign to a DataFrame\n",
    "df = pd.read_csv(\"./cleaned.csv\")\n",
    "\n",
    "# output a short-exampe of the data\n",
    "df.head()\n",
    "# df"
   ]
  },
  {
   "cell_type": "markdown",
   "metadata": {},
   "source": [
    "# The Data to Compare\n",
    "Here, 2 vars\n",
    "- percent below poverty between ages 35- 64  \n",
    "- percent where education is @ specific education level\n",
    "  - NOTE: there are a few education levels, so there will be a few comparisons"
   ]
  },
  {
   "cell_type": "code",
   "execution_count": 67,
   "metadata": {},
   "outputs": [
    {
     "data": {
      "text/plain": [
       "0      8.1\n",
       "1      9.7\n",
       "2      9.9\n",
       "3      9.4\n",
       "4      9.4\n",
       "5     10.0\n",
       "6      8.3\n",
       "7     10.1\n",
       "8      8.0\n",
       "9      9.6\n",
       "10    12.5\n",
       "11     8.1\n",
       "12     9.6\n",
       "13     8.7\n",
       "14     6.9\n",
       "15    14.6\n",
       "16    11.0\n",
       "17     9.8\n",
       "18     7.4\n",
       "19    10.0\n",
       "20    13.5\n",
       "21    10.7\n",
       "22     7.8\n",
       "23    35.0\n",
       "24     8.6\n",
       "25     8.1\n",
       "26     6.9\n",
       "27     7.5\n",
       "28    10.4\n",
       "29    10.2\n",
       "30    10.2\n",
       "31     8.3\n",
       "32     6.9\n",
       "33     9.5\n",
       "34     9.2\n",
       "35    11.8\n",
       "36    11.6\n",
       "37     8.6\n",
       "38     9.7\n",
       "39     7.9\n",
       "40     5.0\n",
       "41     8.3\n",
       "42    12.2\n",
       "43     9.2\n",
       "44     7.0\n",
       "45    10.7\n",
       "46     9.8\n",
       "47     9.7\n",
       "48     8.2\n",
       "49    17.7\n",
       "50     6.2\n",
       "51    10.1\n",
       "Name: Percent below poverty level:EDUCATIONAL ATTAINMENT:Population 25 years and over!!Some college, associate's degree, dtype: float64"
      ]
     },
     "execution_count": 67,
     "metadata": {},
     "output_type": "execute_result"
    }
   ],
   "source": [
    "age_cols = df.filter(like=\"Percent below poverty level:AGE\")\n",
    "ed_poverty_totals = df.filter(like=\"Percent below poverty level:EDUCATIONAL ATTAINMENT:\")\n",
    "ed_poverty_totals.head()\n",
    "\n",
    "# AgeRange Column\n",
    "below_p_18_to_35 = age_cols[\"Percent below poverty level:AGE:18 to 64 years!!18 to 34 years\"]\n",
    "\n",
    "# Education-Columns\n",
    "no_hs_pct = df[\"Percent below poverty level:EDUCATIONAL ATTAINMENT:Population 25 years and over!!Less than high school graduate\"]\n",
    "hs_grads_pct = df[\"Percent below poverty level:EDUCATIONAL ATTAINMENT:Population 25 years and over!!High school graduate (includes equivalency)\"]\n",
    "some_college_pct = df[\"Percent below poverty level:EDUCATIONAL ATTAINMENT:Population 25 years and over!!Some college, associate's degree\"]\n",
    "bach_plus_pct = df[\"Percent below poverty level:EDUCATIONAL ATTAINMENT:Population 25 years and over!!Bachelor's degree or higher\"]"
   ]
  },
  {
   "cell_type": "markdown",
   "metadata": {},
   "source": [
    "# Scatterplots"
   ]
  },
  {
   "cell_type": "markdown",
   "metadata": {},
   "source": [
    "## below poverty vs no highscool"
   ]
  },
  {
   "cell_type": "code",
   "execution_count": 24,
   "metadata": {},
   "outputs": [
    {
     "data": {
      "text/plain": [
       "<matplotlib.collections.PathCollection at 0x1a1ecc5dd0>"
      ]
     },
     "execution_count": 24,
     "metadata": {},
     "output_type": "execute_result"
    },
    {
     "data": {
      "image/png": "[encoded data removed]",
      "text/plain": [
       "<Figure size 432x288 with 1 Axes>"
      ]
     },
     "metadata": {
      "needs_background": "light"
     },
     "output_type": "display_data"
    }
   ],
   "source": [
    "scatter(below_p_18_to_35, no_hs_pct)"
   ]
  },
  {
   "cell_type": "markdown",
   "metadata": {},
   "source": [
    "## below poverty vs hs grads"
   ]
  },
  {
   "cell_type": "code",
   "execution_count": 25,
   "metadata": {},
   "outputs": [
    {
     "data": {
      "text/plain": [
       "<matplotlib.collections.PathCollection at 0x1a1eeaea10>"
      ]
     },
     "execution_count": 25,
     "metadata": {},
     "output_type": "execute_result"
    },
    {
     "data": {
      "image/png": "[encoded data removed]",
      "text/plain": [
       "<Figure size 432x288 with 1 Axes>"
      ]
     },
     "metadata": {
      "needs_background": "light"
     },
     "output_type": "display_data"
    }
   ],
   "source": [
    "scatter(below_p_18_to_35, hs_grads_pct)"
   ]
  },
  {
   "cell_type": "markdown",
   "metadata": {},
   "source": [
    "## below poverty vs some college"
   ]
  },
  {
   "cell_type": "code",
   "execution_count": 68,
   "metadata": {},
   "outputs": [
    {
     "data": {
      "text/plain": [
       "<matplotlib.collections.PathCollection at 0x109e28d90>"
      ]
     },
     "execution_count": 68,
     "metadata": {},
     "output_type": "execute_result"
    },
    {
     "data": {
      "image/png": "[encoded data removed]",
      "text/plain": [
       "<Figure size 432x288 with 1 Axes>"
      ]
     },
     "metadata": {
      "needs_background": "light"
     },
     "output_type": "display_data"
    }
   ],
   "source": [
    "scatter(below_p_18_to_35, some_college_pct)"
   ]
  },
  {
   "cell_type": "markdown",
   "metadata": {},
   "source": [
    "## below poverty vs bachelors or more"
   ]
  },
  {
   "cell_type": "code",
   "execution_count": 27,
   "metadata": {},
   "outputs": [
    {
     "data": {
      "text/plain": [
       "<matplotlib.collections.PathCollection at 0x1a1efdad90>"
      ]
     },
     "execution_count": 27,
     "metadata": {},
     "output_type": "execute_result"
    },
    {
     "data": {
      "image/png": "[encoded data removed]",
      "text/plain": [
       "<Figure size 432x288 with 1 Axes>"
      ]
     },
     "metadata": {
      "needs_background": "light"
     },
     "output_type": "display_data"
    }
   ],
   "source": [
    "scatter(below_p_18_to_35, bach_plus_pct)"
   ]
  },
  {
   "cell_type": "markdown",
   "metadata": {},
   "source": [
    "# Using stats to calculate linear regression"
   ]
  },
  {
   "cell_type": "markdown",
   "metadata": {},
   "source": [
    "## plotting the bestfit line on the scatterplot no highschool"
   ]
  },
  {
   "cell_type": "code",
   "execution_count": 60,
   "metadata": {},
   "outputs": [
    {
     "name": "stdout",
     "output_type": "stream",
     "text": [
      "--SLOPE--\n",
      "1.1453532110457187\n",
      "\n",
      "--INTERCEPT--\n",
      "6.475106386126733\n",
      "\n",
      "--R VAL--\n",
      "0.8653491360371064\n",
      "\n",
      "--p_value--\n",
      "1.2869593616315114e-16\n",
      "\n",
      "--STAND. DEV. ERR--\n",
      "0.0938096916552003\n",
      "\n",
      "** Deducted, r-squared\n",
      "0.7488291272401665\n"
     ]
    },
    {
     "data": {
      "image/png": "[encoded data removed]",
      "text/plain": [
       "<Figure size 432x288 with 1 Axes>"
      ]
     },
     "metadata": {
      "needs_background": "light"
     },
     "output_type": "display_data"
    }
   ],
   "source": [
    "import matplotlib.pyplot as plt\n",
    "\n",
    "slope, intercept, r_value, p_value, std_err = stats.linregress(below_p_18_to_35, no_hs_pct)\n",
    "print('--SLOPE--')\n",
    "print(str(slope))\n",
    "print('')\n",
    "print('--INTERCEPT--')\n",
    "print(str(intercept))\n",
    "print('')\n",
    "print('--R VAL--')\n",
    "print(str(r_value))\n",
    "print('')\n",
    "print('--p_value--')\n",
    "print(str(p_value))\n",
    "print('')\n",
    "print('--STAND. DEV. ERR--')\n",
    "print(str(std_err))\n",
    "print('')\n",
    "print('** Deducted, r-squared')\n",
    "print(str(r_value ** 2))\n",
    "\n",
    "# takes x value, slope && y-intercept\n",
    "def yVal(xVal, slope, int):\n",
    "    return slope * xVal + int\n",
    "\n",
    "# using existing data and y = mx+b equation, make best-fit-line y-values\n",
    "fitLineYVals = yVal(below_p_18_to_35, slope, intercept)\n",
    "\n",
    "#plot the scatter again\n",
    "plt.scatter(below_p_18_to_35, no_hs_pct)\n",
    "\n",
    "# superimpose the line, red\n",
    "plt.plot(below_p_18_to_35, fitLineYVals, c=\"r\")\n",
    "plt.show()"
   ]
  },
  {
   "cell_type": "markdown",
   "metadata": {},
   "source": [
    "## bestfit hs grads"
   ]
  },
  {
   "cell_type": "code",
   "execution_count": 59,
   "metadata": {},
   "outputs": [
    {
     "name": "stdout",
     "output_type": "stream",
     "text": [
      "--SLOPE--\n",
      "0.881787059304219\n",
      "\n",
      "--INTERCEPT--\n",
      "-0.5192393292353277\n",
      "\n",
      "--R VAL--\n",
      "0.8681634428412583\n",
      "\n",
      "--p_value--\n",
      "7.8570765719262e-17\n",
      "\n",
      "--STAND. DEV. ERR--\n",
      "0.07128572744016963\n",
      "\n",
      "** Deducted, r-squared\n",
      "0.7537077634859869\n"
     ]
    },
    {
     "data": {
      "image/png": "[encoded data removed]",
      "text/plain": [
       "<Figure size 432x288 with 1 Axes>"
      ]
     },
     "metadata": {
      "needs_background": "light"
     },
     "output_type": "display_data"
    }
   ],
   "source": [
    "import matplotlib.pyplot as plt\n",
    "\n",
    "slope, intercept, r_value, p_value, std_err = stats.linregress(below_p_18_to_35, hs_grads_pct)\n",
    "print('--SLOPE--')\n",
    "print(str(slope))\n",
    "print('')\n",
    "print('--INTERCEPT--')\n",
    "print(str(intercept))\n",
    "print('')\n",
    "print('--R VAL--')\n",
    "print(str(r_value))\n",
    "print('')\n",
    "print('--p_value--')\n",
    "print(str(p_value))\n",
    "print('')\n",
    "print('--STAND. DEV. ERR--')\n",
    "print(str(std_err))\n",
    "print('')\n",
    "print('** Deducted, r-squared')\n",
    "print(str(r_value ** 2))\n",
    "\n",
    "# takes x value, slope && y-intercept\n",
    "def yVal(xVal, slope, int):\n",
    "    return slope * xVal + int\n",
    "\n",
    "# using existing data and y = mx+b equation, make best-fit-line y-values\n",
    "fitLineYVals = yVal(below_p_18_to_35, slope, intercept)\n",
    "\n",
    "#plot the scatter again\n",
    "plt.scatter(below_p_18_to_35, hs_grads_pct)\n",
    "\n",
    "# superimpose the line, red\n",
    "plt.plot(below_p_18_to_35, fitLineYVals, c=\"r\")\n",
    "plt.show()"
   ]
  },
  {
   "cell_type": "markdown",
   "metadata": {},
   "source": [
    "## bestfit some college"
   ]
  },
  {
   "cell_type": "code",
   "execution_count": 72,
   "metadata": {
    "scrolled": true
   },
   "outputs": [
    {
     "name": "stdout",
     "output_type": "stream",
     "text": [
      "--SLOPE--\n",
      "0.7185670110250055\n",
      "\n",
      "--INTERCEPT--\n",
      "-1.9577839135299033\n",
      "\n",
      "--R VAL--\n",
      "0.8949007170832104\n",
      "\n",
      "--p_value--\n",
      "3.767996742352939e-19\n",
      "\n",
      "--STAND. DEV. ERR--\n",
      "0.05067578948965014\n",
      "\n",
      "** Deducted, r-squared\n",
      "0.8008472934360442\n"
     ]
    },
    {
     "data": {
      "image/png": "[encoded data removed]",
      "text/plain": [
       "<Figure size 432x288 with 1 Axes>"
      ]
     },
     "metadata": {
      "needs_background": "light"
     },
     "output_type": "display_data"
    }
   ],
   "source": [
    "import matplotlib.pyplot as plt\n",
    "\n",
    "slope, intercept, r_value, p_value, std_err = stats.linregress(below_p_18_to_35, some_college_pct)\n",
    "print('--SLOPE--')\n",
    "print(str(slope))\n",
    "print('')\n",
    "print('--INTERCEPT--')\n",
    "print(str(intercept))\n",
    "print('')\n",
    "print('--R VAL--')\n",
    "print(str(r_value))\n",
    "print('')\n",
    "print('--p_value--')\n",
    "print(str(p_value))\n",
    "print('')\n",
    "print('--STAND. DEV. ERR--')\n",
    "print(str(std_err))\n",
    "print('')\n",
    "print('** Deducted, r-squared')\n",
    "print(str(r_value ** 2))\n",
    "\n",
    "# takes x value, slope && y-intercept\n",
    "def yVal(xVal, slope, int):\n",
    "    return slope * xVal + int\n",
    "\n",
    "# using existing data and y = mx+b equation, make best-fit-line y-values\n",
    "fitLineYVals = yVal(below_p_18_to_35, slope, intercept)\n",
    "\n",
    "#plot the scatter again\n",
    "plt.scatter(below_p_18_to_35, some_college_pct)\n",
    "\n",
    "# superimpose the line, red\n",
    "plt.plot(below_p_18_to_35, fitLineYVals, c=\"r\")\n",
    "plt.show()"
   ]
  },
  {
   "cell_type": "markdown",
   "metadata": {},
   "source": [
    "## Bachelors +"
   ]
  },
  {
   "cell_type": "code",
   "execution_count": 66,
   "metadata": {},
   "outputs": [
    {
     "name": "stdout",
     "output_type": "stream",
     "text": [
      "--SLOPE--\n",
      "0.3052920482701085\n",
      "\n",
      "--INTERCEPT--\n",
      "-0.5531104924775674\n",
      "\n",
      "--R VAL--\n",
      "0.8462244247455171\n",
      "\n",
      "--p_value--\n",
      "2.810875634967096e-15\n",
      "\n",
      "--STAND. DEV. ERR--\n",
      "0.027185095342024942\n",
      "\n",
      "** Deducted, r-squared\n",
      "0.7160957770358812\n"
     ]
    },
    {
     "data": {
      "image/png": "[encoded data removed]",
      "text/plain": [
       "<Figure size 432x288 with 1 Axes>"
      ]
     },
     "metadata": {
      "needs_background": "light"
     },
     "output_type": "display_data"
    }
   ],
   "source": [
    "import matplotlib.pyplot as plt\n",
    "\n",
    "slope, intercept, r_value, p_value, std_err = stats.linregress(below_p_18_to_35, bach_plus_pct)\n",
    "print('--SLOPE--')\n",
    "print(str(slope))\n",
    "print('')\n",
    "print('--INTERCEPT--')\n",
    "print(str(intercept))\n",
    "print('')\n",
    "print('--R VAL--')\n",
    "print(str(r_value))\n",
    "print('')\n",
    "print('--p_value--')\n",
    "print(str(p_value))\n",
    "print('')\n",
    "print('--STAND. DEV. ERR--')\n",
    "print(str(std_err))\n",
    "print('')\n",
    "print('** Deducted, r-squared')\n",
    "print(str(r_value ** 2))\n",
    "\n",
    "# takes x value, slope && y-intercept\n",
    "def yVal(xVal, slope, int):\n",
    "    return slope * xVal + int\n",
    "\n",
    "# using existing data and y = mx+b equation, make best-fit-line y-values\n",
    "fitLineYVals = yVal(below_p_18_to_35, slope, intercept)\n",
    "\n",
    "#plot the scatter again\n",
    "plt.scatter(below_p_18_to_35, bach_plus_pct)\n",
    "\n",
    "# superimpose the line, red\n",
    "plt.plot(below_p_18_to_35, fitLineYVals, c=\"r\")\n",
    "plt.show()\n",
    "\n"
   ]
  },
  {
   "cell_type": "code",
   "execution_count": null,
   "metadata": {},
   "outputs": [],
   "source": []
  }
 ],
 "metadata": {
  "kernelspec": {
   "display_name": "Python 3",
   "language": "python",
   "name": "python3"
  },
  "language_info": {
   "codemirror_mode": {
    "name": "ipython",
    "version": 3
   },
   "file_extension": ".py",
   "mimetype": "text/x-python",
   "name": "python",
   "nbconvert_exporter": "python",
   "pygments_lexer": "ipython3",
   "version": "3.7.6"
  }
 },
 "nbformat": 4,
 "nbformat_minor": 2
}
